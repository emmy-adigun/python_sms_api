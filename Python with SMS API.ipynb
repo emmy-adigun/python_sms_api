{
 "cells": [
  {
   "cell_type": "code",
   "execution_count": null,
   "metadata": {},
   "outputs": [],
   "source": [
    "# Import the libraries\n",
    "import pyodbc\n",
    "import requests\n",
    "from requests.auth import HTTPBasicAuth\n",
    "import base64\n",
    "import json\n",
    "import sqlite3"
   ]
  },
  {
   "cell_type": "code",
   "execution_count": null,
   "metadata": {},
   "outputs": [],
   "source": [
    "# Connection to sql server\n",
    "server = 'server_name'  # Name of server\n",
    "database = 'db_name'  # Name of database\n",
    "username = '********'  # Username\n",
    "password = '********'  # Password\n",
    "driver = '{ODBC Driver 17 for SQL Server}'\n",
    "cnxn = pyodbc.connect('DRIVER='+driver+'; SERVER='+server+\n",
    "                      ';PORT=1433; DATABASE='+database+'; UID='+username+'; PWD='+password)\n",
    "cursor = cnxn.cursor()"
   ]
  },
  {
   "cell_type": "code",
   "execution_count": null,
   "metadata": {},
   "outputs": [],
   "source": [
    "# Sample select query\n",
    "cursor.execute(\"SELECT ********;\") \n",
    "row = cursor.fetchone() \n",
    "while row: \n",
    "    print(row[0])\n",
    "    row = cursor.fetchone()"
   ]
  },
  {
   "cell_type": "code",
   "execution_count": null,
   "metadata": {},
   "outputs": [],
   "source": [
    "url = 'https://********************'\n",
    "username = \"********\"\n",
    "password = \"********\"\n",
    "response = {\n",
    " \"sms\": {\n",
    " \"dest\": \"********\",  # Destination mobile number\n",
    " \"src\": \"********\",  # Source address\n",
    " \"text\": 'Active Base: ' + str(row)  # Content of message as text  \n",
    " } \n",
    "} "
   ]
  },
  {
   "cell_type": "code",
   "execution_count": null,
   "metadata": {},
   "outputs": [],
   "source": [
    "# Confirm request authentication\n",
    "result_data = requests.post(url, json=response, auth=HTTPBasicAuth(username, password))\n",
    "if result_data:\n",
    " print('Success!')\n",
    "else:\n",
    " print('Not Found.')\n",
    " \n",
    "print(result_data.status_code)"
   ]
  }
 ],
 "metadata": {
  "kernelspec": {
   "display_name": "Python 3",
   "language": "python",
   "name": "python3"
  },
  "language_info": {
   "codemirror_mode": {
    "name": "ipython",
    "version": 3
   },
   "file_extension": ".py",
   "mimetype": "text/x-python",
   "name": "python",
   "nbconvert_exporter": "python",
   "pygments_lexer": "ipython3",
   "version": "3.7.6"
  }
 },
 "nbformat": 4,
 "nbformat_minor": 4
}
